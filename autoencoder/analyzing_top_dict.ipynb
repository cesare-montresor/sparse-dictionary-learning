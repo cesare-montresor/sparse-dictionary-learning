{
 "cells": [
  {
   "cell_type": "code",
   "execution_count": 1,
   "metadata": {},
   "outputs": [],
   "source": [
    "import sys\n",
    "import re\n",
    "import pickle\n",
    "import os\n",
    "import io\n",
    "import torch\n",
    "import numpy as np\n",
    "import matplotlib.pyplot as plt"
   ]
  },
  {
   "attachments": {},
   "cell_type": "markdown",
   "metadata": {},
   "source": [
    "### Load data"
   ]
  },
  {
   "cell_type": "code",
   "execution_count": 2,
   "metadata": {},
   "outputs": [
    {
     "name": "stdout",
     "output_type": "stream",
     "text": [
      "total number of autoencoder neurons: 4096\n"
     ]
    }
   ],
   "source": [
    "## load the dictionary of top activations\n",
    "run_name = 'out_autoencoder/1704783101.13-autoencoder-openwebtext'\n",
    "dict_path = os.path.join(run_name, 'top_dict.pkl')\n",
    "\n",
    "with open(dict_path, 'rb') as handle:\n",
    "    top_dict = pickle.load(handle)\n",
    "print(f'total number of autoencoder neurons: {len(top_dict)}')"
   ]
  },
  {
   "cell_type": "code",
   "execution_count": 3,
   "metadata": {},
   "outputs": [],
   "source": [
    "## load model checkpoint \n",
    "ckpt_path = os.path.join(run_name, 'ckpt.pt')\n",
    "ckpt = torch.load(ckpt_path, map_location='cpu')"
   ]
  },
  {
   "cell_type": "code",
   "execution_count": 16,
   "metadata": {},
   "outputs": [
    {
     "data": {
      "image/png": "[encoded data removed]",
      "text/plain": [
       "<Figure size 640x480 with 1 Axes>"
      ]
     },
     "metadata": {},
     "output_type": "display_data"
    }
   ],
   "source": [
    "## plot feature density histogram again\n",
    "eval_tokens = ckpt['config']['eval_tokens']\n",
    "feature_activation_counts = ckpt['feature_activation_counts']\n",
    "log_feature_activation_density = np.log10(feature_activation_counts[feature_activation_counts != 0]/(eval_tokens)) # (n_features,)\n",
    "_, ax = plt.subplots()\n",
    "ax.hist(log_feature_activation_density, bins='auto')\n",
    "ax.set_title('Featude density histogram')\n",
    "ax.set_xlabel('log_10(Feature density)')\n",
    "ax.set_ylabel('Counts')\n",
    "\n",
    "plt.show()"
   ]
  },
  {
   "cell_type": "code",
   "execution_count": 5,
   "metadata": {},
   "outputs": [
    {
     "name": "stdout",
     "output_type": "stream",
     "text": [
      "Number of high density neurons: 1755\n",
      "Number of ultra-low density neurons: 17\n",
      "Number of dead neurons: 2324\n",
      "Check that the total number of neurons matches up: 4096\n"
     ]
    }
   ],
   "source": [
    "# Notice that the two modes seem to separate roughly around 1e-3 examples. \n",
    "modes_density_cutoff = 1e-3\n",
    "\n",
    "# get top activations dictionary for high density neurons\n",
    "high_density_neuron_indices = torch.arange(len(feature_activation_counts))[feature_activation_counts > modes_density_cutoff * eval_tokens]\n",
    "high_density_neurons = {key:val for key, val in top_dict.items() if key in high_density_neuron_indices}\n",
    "print(f'Number of high density neurons: {len(high_density_neurons)}')\n",
    "\n",
    "# get top activations dictionary for ultra-low density neurons\n",
    "ultra_low_density_indices = torch.arange(len(feature_activation_counts))[(feature_activation_counts != 0) & (feature_activation_counts < modes_density_cutoff * eval_tokens)]\n",
    "ultra_low_density_neurons = {key:val for key, val in top_dict.items() if key in ultra_low_density_indices}\n",
    "print(f'Number of ultra-low density neurons: {len(ultra_low_density_neurons)}')\n",
    "\n",
    "dead_neuron_indices = torch.arange(len(feature_activation_counts))[(feature_activation_counts == 0)]\n",
    "dead_neurons = {key:val for key, val in top_dict.items() if key in dead_neuron_indices}\n",
    "print(f'Number of dead neurons: {len(dead_neurons)}')\n",
    "\n",
    "print(f'Check that the total number of neurons matches up: {len(high_density_neurons) + len(ultra_low_density_neurons) + len(dead_neurons)}')"
   ]
  },
  {
   "cell_type": "code",
   "execution_count": null,
   "metadata": {},
   "outputs": [],
   "source": [
    "high_density_neurons"
   ]
  },
  {
   "attachments": {},
   "cell_type": "markdown",
   "metadata": {},
   "source": [
    "### Print data to an HTML file"
   ]
  },
  {
   "attachments": {},
   "cell_type": "markdown",
   "metadata": {},
   "source": [
    "#### Some helper functions"
   ]
  },
  {
   "cell_type": "code",
   "execution_count": 6,
   "metadata": {},
   "outputs": [],
   "source": [
    "def escape_html_preserve_br(text):\n",
    "    #This function takes a string and replaces HTML special characters with their corresponding HTML entities\n",
    "    #but preserves <br> as it is.\n",
    "    # Replace all instances of <br> with a placeholder\n",
    "    text = text.replace(\"<br>\", \"PLACEHOLDER_FOR_BR\")\n",
    "    # Dictionary of HTML special characters and their entities\n",
    "    html_escape_table = {\"&\": \"&amp;\", '\"': \"&quot;\", \"'\": \"&apos;\", \">\": \"&gt;\", \"<\": \"&lt;\"}\n",
    "    # Replace each special character with its corresponding HTML entity\n",
    "    escaped_text = \"\".join(html_escape_table.get(c, c) for c in text)\n",
    "    # Replace the placeholder with <br> again\n",
    "    escaped_text = escaped_text.replace(\"PLACEHOLDER_FOR_BR\", \"<br>\")\n",
    "    return escaped_text\n",
    "\n",
    "def special_print(mydict, manual_descriptions, sort=False):\n",
    "    items = list(mydict.items())\n",
    "    if sort: # if sort is True, sort neurons by their highest activation values\n",
    "        items.sort(key=lambda x: x[1][0], reverse=True)\n",
    "    output = \"\" # initiate a string that will contain all of the text\n",
    "    for (neuron_id, list_of_activations_and_contexts) in items:\n",
    "        output += f'<b> Neuron: {neuron_id} </b> <br> <br>  ' # for each neuron, give a header in\n",
    "\n",
    "        # if we have a description for this neuron, add that\n",
    "        if neuron_id in manual_descriptions: \n",
    "            output += f'<span style=\"color:blue;\"> Common Theme: {manual_descriptions[neuron_id]}  </span> <br> <br>'\n",
    "\n",
    "        # now get the contribution of current neuron to the string\n",
    "        current_neuron_str = \"\"\n",
    "        # update the current neuron string with contexts and activations for current neuron\n",
    "        for activation, context in list_of_activations_and_contexts:\n",
    "            current_neuron_str += f'{context} ; {activation:.4f} <br>'\n",
    "\n",
    "        # if there is any HTML text in the current neuron string, make sure to replace it so that the HTML output is not disturbed\n",
    "        for char in [\"&\", '\"', \"'\", \">\", \"<\"]:\n",
    "            if char in current_neuron_str:\n",
    "                current_neuron_str = escape_html_preserve_br(current_neuron_str)\n",
    "                break\n",
    "        output += current_neuron_str + '<br> <br> <hr> <br>'\n",
    "    print(output)\n",
    "\n",
    "def ansi_to_html(text):\n",
    "    text = re.sub(r'\\x1b\\[91m', '<span style=\"color:red;\">', text) # convert ANSI color codes to HTML\n",
    "    text = re.sub(r'\\x1b\\[0m', '</span>', text)\n",
    "    text = text.replace('\\n', '&#x23CE;') # replace newline characters with HTML line breaks\n",
    "    return text"
   ]
  },
  {
   "attachments": {},
   "cell_type": "markdown",
   "metadata": {},
   "source": [
    "#### Write down some manual descriptions [Optional]"
   ]
  },
  {
   "attachments": {},
   "cell_type": "markdown",
   "metadata": {},
   "source": [
    "I wrote these manual descriptions by analyzing the neuron. I used Claude and ChatGPT for help. Perhaps this step could be automated using Claude/ChatGPT APIs. "
   ]
  },
  {
   "cell_type": "code",
   "execution_count": 7,
   "metadata": {},
   "outputs": [],
   "source": [
    "manual_descriptions = {}\n",
    "manual_descriptions[1] = 'Mention of a weapon or a vehicle in the context of a committed crime.'\n",
    "manual_descriptions[2] = 'Military, government, and public service operations'\n",
    "manual_descriptions[6] = 'Popular culture and entertainment'\n",
    "manual_descriptions[9] = 'Political, social, and technological issues'\n",
    "manual_descriptions[13] = 'Balancing constraints and optimization in various professional settings, focusing on managing costs, resources, and operational limitations.'\n",
    "manual_descriptions[14] = 'Token-in-context: see' \n",
    "manual_descriptions[15] = 'Not clear'\n",
    "manual_descriptions[16] = 'Token-in-context: thousands'\n",
    "manual_descriptions[17] = 'Human names, mostly Middle Eastern/Arabic'\n",
    "manual_descriptions[19] = 'Token-in-context: chance'\n",
    "manual_descriptions[20] = 'Time in various contexts'\n",
    "manual_descriptions[28] = \"? or ! in dialogues with questions or exclamations, often reflecting surprise, skepticism, or strong emotion\"\n",
    "manual_descriptions[29] = \"Services, opportunities, and activities in different sectors like business, arts, politics, and public amenities\"\n",
    "manual_descriptions[31] = \"Global and political issues, focusing on strategies, challenges, and perspectives in international relations and security\"\n",
    "manual_descriptions[32] = 'Token-in-context: ch'\n",
    "manual_descriptions[34] = 'Token-in-context: being'\n",
    "manual_descriptions[38] = 'Token-in-context: Maybe'\n",
    "manual_descriptions[39] = 'Token-in-context: also'\n",
    "manual_descriptions[41] = 'Releasing or publishing content'\n",
    "manual_descriptions[42] = 'Political figures and events, discussing various aspects of political strategy, legal actions, and opinions related to prominent personalities and policies.'"
   ]
  },
  {
   "cell_type": "code",
   "execution_count": 8,
   "metadata": {},
   "outputs": [],
   "source": [
    "#### Can also update the manual descriptions dictionary with the help of a function that looks for token-in-context features.\n",
    "# It essentially checks if the same \n",
    "\n",
    "def extract_red_text(input_string):\n",
    "    pattern = r'\\x1b\\[91m[\\s\\S]*?\\x1b\\[0m' # pattern to match any characters including newlines between the red color markers\n",
    "    match = re.search(pattern, input_string) # find the first occurrence of the pattern\n",
    "    return match.group(0) if match else None # Return the matched text if found, otherwise return None\n",
    "\n",
    "def update_manual_descriptions(mydict, manual_descriptions):\n",
    "    output = \"\"\n",
    "    for (neuron, list_activations) in mydict.items():\n",
    "        # start with assuming that the red text is token in context\n",
    "        check, token_in_context, prev_red_text = True, True, None  \n",
    "        for index in range(len(list_activations)):\n",
    "            current_red_text = extract_red_text(f'{list_activations[index][1]}')\n",
    "            if check:\n",
    "                if prev_red_text and current_red_text != prev_red_text: # if the previous red text is not the same as the current red text, we will not check again\n",
    "                    token_in_context, check = False, False\n",
    "            prev_red_text = current_red_text\n",
    "        \n",
    "        if token_in_context: # if token in context, update manual_descriptions\n",
    "            manual_descriptions[neuron] = \"Token-in-context: \" + current_red_text[5:-4]\n",
    "    return manual_descriptions"
   ]
  },
  {
   "attachments": {},
   "cell_type": "markdown",
   "metadata": {},
   "source": [
    "#### Use these functions to publish HTML"
   ]
  },
  {
   "cell_type": "code",
   "execution_count": 15,
   "metadata": {},
   "outputs": [],
   "source": [
    "current_dict = ultra_low_density_neurons\n",
    "sort_by_activations = False\n",
    "if sort_by_activations:\n",
    "    file_name = 'sorted_high_density_neurons' if current_dict == high_density_neurons else 'sorted_ultra_low_density_neurons' if current_dict == ultra_low_density_neurons else 'sorted_dead_neurons'\n",
    "else: \n",
    "    file_name = 'high_density_neurons' if current_dict == high_density_neurons else 'ultra_low_density_neurons' if current_dict == ultra_low_density_neurons else 'dead_neurons'\n",
    "\n",
    "manual_descriptions = update_manual_descriptions(high_density_neurons, manual_descriptions)\n",
    "\n",
    "# Write the content to an HTML file\n",
    "with open(os.path.join(run_name, f'{file_name}.html'), 'w') as file:\n",
    "    original_stdout = sys.stdout \n",
    "    # Capture the output of special_print directly into a string\n",
    "    output_stream = io.StringIO()\n",
    "    sys.stdout = output_stream  # Redirect stdout to the StringIO object\n",
    "    special_print(current_dict, manual_descriptions, sort=sort_by_activations)  # Call the function\n",
    "    sys.stdout = original_stdout  # Reset stdout to its original value\n",
    "\n",
    "    # The captured output is now in output_stream\n",
    "    captured_output = output_stream.getvalue()\n",
    "    html_content = f\"\"\"<!DOCTYPE html>\n",
    "    <html>\n",
    "    <head>\n",
    "        <title>{file_name}</title>\n",
    "    </head>\n",
    "    <body>\n",
    "        <p>{ansi_to_html(captured_output)}</p>\n",
    "    </body>\n",
    "    </html>\"\"\"\n",
    "    file.write(html_content)"
   ]
  },
  {
   "cell_type": "code",
   "execution_count": null,
   "metadata": {},
   "outputs": [],
   "source": []
  }
 ],
 "metadata": {
  "kernelspec": {
   "display_name": "env",
   "language": "python",
   "name": "python3"
  },
  "language_info": {
   "codemirror_mode": {
    "name": "ipython",
    "version": 3
   },
   "file_extension": ".py",
   "mimetype": "text/x-python",
   "name": "python",
   "nbconvert_exporter": "python",
   "pygments_lexer": "ipython3",
   "version": "3.9.16"
  },
  "orig_nbformat": 4
 },
 "nbformat": 4,
 "nbformat_minor": 2
}
