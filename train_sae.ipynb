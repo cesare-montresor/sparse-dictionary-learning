{
 "cells": [
  {
   "cell_type": "code",
   "execution_count": 1,
   "metadata": {},
   "outputs": [],
   "source": [
    "\"\"\"\n",
    "Train a Sparse AutoEncoder model\n",
    "\"\"\"\n",
    "import os\n",
    "from contextlib import nullcontext\n",
    "import torch\n",
    "import torch.nn as nn \n",
    "import torch.nn.functional as F\n",
    "from model import GPTConfig, GPT\n",
    "import numpy as np\n",
    "import wandb\n",
    "import time\n",
    "import matplotlib.pyplot as plt\n",
    "from PIL import Image\n",
    "import io"
   ]
  },
  {
   "cell_type": "code",
   "execution_count": 2,
   "metadata": {},
   "outputs": [],
   "source": [
    "# Things to do:\n",
    "# 1. figure out CPU/GPU issues --> DONE\n",
    "# 2. Possible memory issues with activations --> DONE\n",
    "# 3. Feature density histograms --> DONE hopefully\n",
    "# 4. manual inspection of features\n",
    "# 5. Neuron resampling\n",
    "\n",
    "# TODO: take care of the case when curr_batch.dtype = torch.float16 instead of torch.float32"
   ]
  },
  {
   "cell_type": "code",
   "execution_count": 3,
   "metadata": {},
   "outputs": [
    {
     "name": "stdout",
     "output_type": "stream",
     "text": [
      "number of parameters: 0.21M\n"
     ]
    }
   ],
   "source": [
    "## load tokenized text data and trained GPT model\n",
    "device = 'cpu'\n",
    "device_type = 'cuda' if 'cuda' in device else 'cpu'\n",
    "seed = 1442\n",
    "dataset = 'shakespeare_char'\n",
    "model_dir = 'out-shakespeare-char' # ignored if init_from is not 'resume'\n",
    "\n",
    "## load tokenized text data\n",
    "data_dir = os.path.join('data', dataset)\n",
    "text_data = np.memmap(os.path.join(data_dir, 'train.bin'), dtype=np.uint16, mode='r')\n",
    "\n",
    "## load model\n",
    "ckpt_path = os.path.join(model_dir, 'ckpt.pt')\n",
    "checkpoint = torch.load(ckpt_path, map_location=device)\n",
    "gptconf = GPTConfig(**checkpoint['model_args'])\n",
    "model = GPT(gptconf)\n",
    "state_dict = checkpoint['model']\n",
    "compile = False # TODO: Don't know why I needed to set compile to False before loading the model..\n",
    "# TODO: I dont know why the next 4 lines are needed. state_dict does not seem to have any keys with unwanted_prefix.\n",
    "unwanted_prefix = '_orig_mod.' \n",
    "for k,v in list(state_dict.items()):\n",
    "    if k.startswith(unwanted_prefix):\n",
    "        state_dict[k[len(unwanted_prefix):]] = state_dict.pop(k)\n",
    "model.load_state_dict(state_dict)\n",
    "model.eval()\n",
    "model.to(device)\n",
    "if compile:\n",
    "    model = torch.compile(model) # requires PyTorch 2.0 (optional)\n",
    "\n",
    "block_size = model.config.block_size"
   ]
  },
  {
   "cell_type": "code",
   "execution_count": 4,
   "metadata": {},
   "outputs": [],
   "source": [
    "## Define Autoencoder class, a helper function to remove gradient information parallel to weights\n",
    "# and get_text_batch function to get a batch of text\n",
    "\n",
    "class AutoEncoder(nn.Module):\n",
    "    def __init__(self, n, m, lam=0.003):\n",
    "        # for us, n = d_MLP (a.k.a. n_ffwd) and m = number of features\n",
    "        super().__init__()\n",
    "        self.enc = nn.Linear(n, m)\n",
    "        self.relu = nn.ReLU()\n",
    "        self.dec = nn.Linear(m, n)\n",
    "        self.lam = lam # coefficient of L_1 loss\n",
    "\n",
    "    def forward(self, acts):\n",
    "        # acts is of shape (b, n) where b = batch_size, n = d_MLP\n",
    "        x = acts - self.dec.bias # (b, n)\n",
    "        f = self.relu(self.enc(x)) # (b, m)\n",
    "        x = self.dec(f) # (b, n)\n",
    "        mseloss = F.mse_loss(x, acts) # scalar\n",
    "        l1loss = F.l1_loss(f, torch.zeros(f.shape), reduction='sum') # scalar\n",
    "        loss = mseloss + self.lam * l1loss # scalar\n",
    "        out = {'mse_loss': mseloss, 'l1loss': l1loss, \n",
    "                'loss': loss, 'recons_acts': x, 'f': f}\n",
    "        return loss, out\n",
    "    \n",
    "    @torch.no_grad()\n",
    "    def get_feature_acts(self, acts):\n",
    "        # given acts of shape (b, n), compute feature activations\n",
    "        x = acts - self.dec.bias # (b, n)\n",
    "        f = self.relu(self.enc(x)) # (b, m)\n",
    "        return f\n",
    "    \n",
    "# a helper function needed during training\n",
    "def remove_parallel_component(grad, weight):\n",
    "    # remove gradient information parallel to weight vectors\n",
    "    \n",
    "    # compute projection of gradient onto weight\n",
    "    # recall proj_b a = (a.\\hat{b}) \\hat{b} is the projection of a onto b\n",
    "\n",
    "    unit_w = F.normalize(weight, dim=0) # \\hat{b}\n",
    "    proj = torch.sum(grad * unit_w, dim=0) * unit_w \n",
    "\n",
    "    return grad - proj\n",
    "\n",
    "# a slightly modified version of nanoGPT get_batch function\n",
    "def get_text_batch(data, block_size, batch_size):\n",
    "    ix = torch.randint(len(data) - block_size, (batch_size,))\n",
    "    x = torch.stack([torch.from_numpy((data[i:i+block_size]).astype(np.int64)) for i in ix])\n",
    "    y = torch.stack([torch.from_numpy((data[i+1:i+1+block_size]).astype(np.int64)) for i in ix])\n",
    "    return x, y"
   ]
  },
  {
   "cell_type": "code",
   "execution_count": 18,
   "metadata": {},
   "outputs": [],
   "source": [
    "## \n",
    "\n",
    "## some hyperparameters\n",
    "wandb_log = True\n",
    "l1_coeff = 3e-3\n",
    "learning_rate = 3e-4\n",
    "dataset = 'shakespeare-char'\n",
    "gpt_batch_size = 16 # batch size for computing reconstruction nll \n",
    "gpt_eval_iters = 200 # TODO: perhaps, can reduce this by 1/2 and multiply gpt_batch_size by 2\n",
    "\n",
    "## load the first partition of data\n",
    "batch_size = 128 # 8192 for owt\n",
    "n_part = 0 # partition number\n",
    "curr_part = torch.load(f'sae_data/sae_data_{n_part}.pt') # current partition\n",
    "\n",
    "ex_per_part, n_ffwd = curr_part.shape # number of examples per partition, gpt d_mlp\n",
    "n_parts = len(next(os.walk('sae_data'))[2]) # number of partitions of (or files in) sae_data\n",
    "N = n_parts * ex_per_part # total number of training examples for autoencoder\n",
    "offset = 0 # if partition number > 0, first 'offset' # of examples will be trained with exs from previous partition\n",
    "\n",
    "## initiate the autoencoder\n",
    "torch.manual_seed(0)\n",
    "n_features = 2 * n_ffwd # change to 8 * n_ffwd to match with A/1 Dictionary Learning Run of Towards Monosemanticity paper\n",
    "sae = AutoEncoder(n_ffwd, n_features, lam=l1_coeff).to(device)\n",
    "optimizer = torch.optim.Adam(sae.parameters(), lr=learning_rate) \n",
    "\n",
    "\n",
    "##### ------------- ############\n",
    "\n",
    "## Get text data for evaluation \n",
    "eval_contexts = 1000 # 10 million in anthropic paper; but we can choose 1 million as OWT dataset is smaller\n",
    "eval_context_tokens = 10 # same as anthropic paper\n",
    "eval_tokens = eval_contexts * eval_context_tokens\n",
    "X, Y = get_text_batch(text_data, block_size=block_size, batch_size=eval_contexts) # (eval_contexts, block_size) \n",
    "selected_tokens_loc = [torch.randint(block_size, (eval_context_tokens,)) for _ in range(eval_contexts)]\n",
    "# Note: for eval_contexts=1 million it will take 15.6GB of CPU MEMORY --- 7.81GB each for x and y\n",
    "# perhaps we will have to go one order of magnitude lower; use 0.1million contexts\n",
    "\n",
    "## define a helper function to convert histogram to PIL images\n",
    "def get_hist_image(data, bins='auto'):\n",
    "    # plot a histogram\n",
    "    _, ax = plt.subplots()\n",
    "    ax.hist(data, bins=bins)\n",
    "    ax.set_title('histogram')\n",
    "\n",
    "    # save the plot to a buffer\n",
    "    buf = io.BytesIO()\n",
    "    plt.savefig(buf, format='png')\n",
    "    buf.seek(0)\n",
    "    plt.close()\n",
    "\n",
    "    # convert buffer to a PIL Image and return\n",
    "    return Image.open(buf)\n",
    "\n",
    "## define a helper function that computes the number of \n",
    "def get_n_feature_acts():\n",
    "    n_feature_activations = torch.zeros(n_features, dtype=torch.float32) # number of tokens on which a feature is active \n",
    "\n",
    "    for iter in range(eval_contexts // gpt_batch_size):\n",
    "        \n",
    "        if device_type == 'cuda':\n",
    "            # pin arrays x,y, which allows us to move them to GPU asynchronously (non_blocking=True)\n",
    "            x = X[iter * gpt_batch_size: (iter + 1) * gpt_batch_size].pin_memory().to(device, non_blocking=True)\n",
    "            y = Y[iter * gpt_batch_size: (iter + 1) * gpt_batch_size].pin_memory().to(device, non_blocking=True)\n",
    "        else:\n",
    "            x = X[iter * gpt_batch_size: (iter + 1) * gpt_batch_size].to(device)\n",
    "            y = Y[iter * gpt_batch_size: (iter + 1) * gpt_batch_size].to(device)\n",
    "        \n",
    "        mlp_activations = model.get_gelu_acts(x) # (gpt_b, t, n_ffwd)\n",
    "        feature_activations = sae.get_feature_acts(mlp_activations) # (b, t, n_features)\n",
    "        selected_feature_acts = torch.stack([feature_activations[i, selected_tokens_loc[iter], :] \n",
    "                                                for i in range(gpt_batch_size)])  # (b, tokens_per_eval_context, n_features)\n",
    "        n_feature_activations += torch.count_nonzero(selected_feature_acts, dim=[0, 1]).to('cpu') # (n_features, )\n",
    "    return n_feature_activations"
   ]
  },
  {
   "cell_type": "code",
   "execution_count": 19,
   "metadata": {},
   "outputs": [
    {
     "name": "stderr",
     "output_type": "stream",
     "text": [
      "Failed to detect the name of this notebook, you can set it manually with the WANDB_NOTEBOOK_NAME environment variable to enable code saving.\n",
      "\u001b[34m\u001b[1mwandb\u001b[0m: Currently logged in as: \u001b[33mshehper\u001b[0m. Use \u001b[1m`wandb login --relogin`\u001b[0m to force relogin\n"
     ]
    },
    {
     "data": {
      "text/html": [
       "Tracking run with wandb version 0.16.1"
      ],
      "text/plain": [
       "<IPython.core.display.HTML object>"
      ]
     },
     "metadata": {},
     "output_type": "display_data"
    },
    {
     "data": {
      "text/html": [
       "Run data is saved locally in <code>/Users/alishehper/work/monosemantic/wandb/run-20231230_223730-ortns5d8</code>"
      ],
      "text/plain": [
       "<IPython.core.display.HTML object>"
      ]
     },
     "metadata": {},
     "output_type": "display_data"
    },
    {
     "data": {
      "text/html": [
       "Syncing run <strong><a href='https://wandb.ai/shehper/sae-shakespeare-char/runs/ortns5d8' target=\"_blank\">sae_shakespeare-char_1703993848</a></strong> to <a href='https://wandb.ai/shehper/sae-shakespeare-char' target=\"_blank\">Weights & Biases</a> (<a href='https://wandb.me/run' target=\"_blank\">docs</a>)<br/>"
      ],
      "text/plain": [
       "<IPython.core.display.HTML object>"
      ]
     },
     "metadata": {},
     "output_type": "display_data"
    },
    {
     "data": {
      "text/html": [
       " View project at <a href='https://wandb.ai/shehper/sae-shakespeare-char' target=\"_blank\">https://wandb.ai/shehper/sae-shakespeare-char</a>"
      ],
      "text/plain": [
       "<IPython.core.display.HTML object>"
      ]
     },
     "metadata": {},
     "output_type": "display_data"
    },
    {
     "data": {
      "text/html": [
       " View run at <a href='https://wandb.ai/shehper/sae-shakespeare-char/runs/ortns5d8' target=\"_blank\">https://wandb.ai/shehper/sae-shakespeare-char/runs/ortns5d8</a>"
      ],
      "text/plain": [
       "<IPython.core.display.HTML object>"
      ]
     },
     "metadata": {},
     "output_type": "display_data"
    },
    {
     "name": "stdout",
     "output_type": "stream",
     "text": [
      "batch: 0/375, mse loss: 0.09, l1_loss: 8680.70,                 total_loss = 26.13, nll loss: 4.4836\n",
      "loaded sae_data_1.pt\n",
      "batch: 100/375, mse loss: 0.08, l1_loss: 38.77,                 total_loss = 0.20, nll loss: 11.8874\n",
      "loaded sae_data_2.pt\n",
      "batch: 200/375, mse loss: 0.08, l1_loss: 4.73,                 total_loss = 0.10, nll loss: 11.8287\n",
      "loaded sae_data_3.pt\n",
      "loaded sae_data_4.pt\n",
      "batch: 300/375, mse loss: 0.08, l1_loss: 3.12,                 total_loss = 0.09, nll loss: 12.1423\n",
      "Exited loop after training on 48000 examples\n"
     ]
    },
    {
     "name": "stderr",
     "output_type": "stream",
     "text": [
      "wandb: WARNING Source type is set to 'repo' but some required information is missing from the environment. A job will not be created from this run. See https://docs.wandb.ai/guides/launch/create-job\n"
     ]
    },
    {
     "data": {
      "text/html": [
       "<style>\n",
       "    table.wandb td:nth-child(1) { padding: 0 10px; text-align: left ; width: auto;} td:nth-child(2) {text-align: left ; width: 100%}\n",
       "    .wandb-row { display: flex; flex-direction: row; flex-wrap: wrap; justify-content: flex-start; width: 100% }\n",
       "    .wandb-col { display: flex; flex-direction: column; flex-basis: 100%; flex: 1; padding: 10px; }\n",
       "    </style>\n",
       "<div class=\"wandb-row\"><div class=\"wandb-col\"><h3>Run history:</h3><br/><table class=\"wandb\"><tr><td>debug/l0_norm</td><td>█▁▁▁</td></tr><tr><td>debug/mean_dictionary_vector_length</td><td>▁▁▁▁</td></tr><tr><td>debug/min_log_feat_density</td><td>█▂▁▁</td></tr><tr><td>debug/num_alive_neurons</td><td>███▁</td></tr><tr><td>losses/l1_loss</td><td>█▁▁▁</td></tr><tr><td>losses/mse_loss</td><td>█▁▃▁</td></tr><tr><td>losses/nll_loss</td><td>▁███</td></tr><tr><td>losses/total_loss</td><td>█▁▁▁</td></tr></table><br/></div><div class=\"wandb-col\"><h3>Run summary:</h3><br/><table class=\"wandb\"><tr><td>debug/l0_norm</td><td>1.00781</td></tr><tr><td>debug/mean_dictionary_vector_length</td><td>1.0</td></tr><tr><td>debug/min_log_feat_density</td><td>-4.0</td></tr><tr><td>debug/num_alive_neurons</td><td>1009</td></tr><tr><td>losses/l1_loss</td><td>3.11938</td></tr><tr><td>losses/mse_loss</td><td>0.0783</td></tr><tr><td>losses/nll_loss</td><td>12.14226</td></tr><tr><td>losses/total_loss</td><td>0.08766</td></tr></table><br/></div></div>"
      ],
      "text/plain": [
       "<IPython.core.display.HTML object>"
      ]
     },
     "metadata": {},
     "output_type": "display_data"
    },
    {
     "data": {
      "text/html": [
       " View run <strong style=\"color:#cdcd00\">sae_shakespeare-char_1703993848</strong> at: <a href='https://wandb.ai/shehper/sae-shakespeare-char/runs/ortns5d8' target=\"_blank\">https://wandb.ai/shehper/sae-shakespeare-char/runs/ortns5d8</a><br/>Synced 6 W&B file(s), 4 media file(s), 0 artifact file(s) and 0 other file(s)"
      ],
      "text/plain": [
       "<IPython.core.display.HTML object>"
      ]
     },
     "metadata": {},
     "output_type": "display_data"
    },
    {
     "data": {
      "text/html": [
       "Find logs at: <code>./wandb/run-20231230_223730-ortns5d8/logs</code>"
      ],
      "text/plain": [
       "<IPython.core.display.HTML object>"
      ]
     },
     "metadata": {},
     "output_type": "display_data"
    }
   ],
   "source": [
    "## TRAINING LOOP\n",
    "\n",
    "if wandb_log:\n",
    "    wandb.init(project=f'sae-{dataset}', name=f'sae_{dataset}_{time.time():.0f}')\n",
    "\n",
    "for step in range(N // batch_size):\n",
    "\n",
    "    ## pick a batch of examples\n",
    "    batch_start = step * batch_size - n_part * ex_per_part - offset\n",
    "    batch_end = (step + 1) * batch_size - n_part * ex_per_part - offset\n",
    "    batch = curr_part[batch_start: batch_end].to(torch.float32)\n",
    "\n",
    "    # if reach the end of current partition, load the next partition into CPU memory\n",
    "    if batch_end >= ex_per_part and n_part < n_parts - 1:\n",
    "        n_part += 1\n",
    "        del curr_part # free up memory\n",
    "        curr_part = torch.load(f'sae_data/sae_data_{n_part}.pt')\n",
    "        print(f\"loaded sae_data_{n_part}.pt\")\n",
    "        batch = torch.cat([batch, curr_part[:batch_size - len(batch)]]).to(torch.float32)\n",
    "        offset = ex_per_part - batch_end\n",
    "\n",
    "    assert len(batch) == batch_size, f\"length of batch = {len(batch)} at step = {step} and partition number = {n_part} is not correct\"\n",
    "\n",
    "    if device_type == 'cuda':\n",
    "        batch = batch.pin_memory().to(device, non_blocking=True)\n",
    "    else:\n",
    "        batch = batch.to(device)\n",
    "\n",
    "    # pin_memory() can speed up data transfer from CPU RAM to GPU RAM \n",
    "    # non_blocking=True will transfer the data asynchronously, i.e. operations on GPU that don't depend on the transferred data\n",
    "    # and any operations on CPU will be performed asynchronously with data transfrer\n",
    "    # https://stackoverflow.com/questions/55563376/pytorch-how-does-pin-memory-work-in-dataloader\n",
    "\n",
    "    ## forward pass, backward pass\n",
    "    optimizer.zero_grad(set_to_none=True) \n",
    "    loss, out = sae(batch) \n",
    "    loss.backward()\n",
    "\n",
    "    # remove gradient information parallel to the decoder columns\n",
    "    sae.dec.weight.grad = remove_parallel_component(sae.dec.weight.grad, sae.dec.weight)\n",
    "    optimizer.step()\n",
    "\n",
    "    # normalize decoder columns\n",
    "    sae.dec.weight = nn.Parameter(F.normalize(sae.dec.weight, dim=0))\n",
    "\n",
    "    if step % 100 == 0:\n",
    "\n",
    "        # TODO: replace this with an estimate_nll function that estimates nll loss and score as done by \n",
    "        # can I perform computations and logging asynchronously? \n",
    "    \n",
    "        xs, ys = get_text_batch(data=text_data, block_size=block_size, batch_size=gpt_batch_size)\n",
    "        nll_loss = model.reconstructed_loss(sae, xs, ys)\n",
    "    \n",
    "        n_feature_acts = get_n_feature_acts()\n",
    "        log_feature_density = np.log10(n_feature_acts[n_feature_acts != 0]/eval_tokens)\n",
    "        feat_density = get_hist_image(log_feature_density)\n",
    "\n",
    "        print(f\"batch: {step}/{N // batch_size}, mse loss: {out['mse_loss'].item():.2f}, l1_loss: {out['l1loss'].item():.2f}, \\\n",
    "                total_loss = {loss.item():.2f}, nll loss: {nll_loss:.4f}\")\n",
    "        \n",
    "        if wandb_log:\n",
    "            wandb.log({'losses/mse_loss': out['mse_loss'].item(),\n",
    "                    'losses/l1_loss': out['l1loss'].item(),\n",
    "                    'losses/total_loss': loss.item(),\n",
    "                    'losses/nll_loss': nll_loss,\n",
    "                    'debug/l0_norm': torch.mean(torch.count_nonzero(out['f'], dim=-1), dtype=torch.float32),\n",
    "                    'debug/mean_dictionary_vector_length': torch.mean(torch.linalg.vector_norm(sae.dec.weight, dim=0)),\n",
    "                    \"debug/feature_density_histograms\": wandb.Image(feat_density),\n",
    "                    \"debug/min_log_feat_density\": log_feature_density.min().item(),\n",
    "                    \"debug/num_alive_neurons\": len(log_feature_density),\n",
    "                    })\n",
    "\n",
    "print(f'Exited loop after training on {N // batch_size * batch_size} examples')\n",
    "\n",
    "if wandb_log:\n",
    "    wandb.finish()"
   ]
  },
  {
   "cell_type": "code",
   "execution_count": 13,
   "metadata": {},
   "outputs": [
    {
     "data": {
      "text/plain": [
       "1024"
      ]
     },
     "execution_count": 13,
     "metadata": {},
     "output_type": "execute_result"
    }
   ],
   "source": [
    "n_features"
   ]
  },
  {
   "cell_type": "code",
   "execution_count": 17,
   "metadata": {},
   "outputs": [
    {
     "data": {
      "text/plain": [
       "1009"
      ]
     },
     "execution_count": 17,
     "metadata": {},
     "output_type": "execute_result"
    }
   ],
   "source": [
    "len(log_feature_density)"
   ]
  },
  {
   "cell_type": "markdown",
   "metadata": {},
   "source": []
  },
  {
   "cell_type": "code",
   "execution_count": 73,
   "metadata": {},
   "outputs": [
    {
     "data": {
      "image/png": "[encoded data removed]",
      "text/plain": [
       "<PIL.PngImagePlugin.PngImageFile image mode=RGBA size=640x480>"
      ]
     },
     "execution_count": 73,
     "metadata": {},
     "output_type": "execute_result"
    }
   ],
   "source": [
    "def get_n_feature_acts():\n",
    "    n_feature_activations = torch.zeros(n_features, dtype=torch.float32) # number of tokens on which a feature is active \n",
    "\n",
    "    for iter in range(eval_contexts // gpt_batch_size):\n",
    "        \n",
    "        if device_type == 'cuda':\n",
    "            # pin arrays x,y, which allows us to move them to GPU asynchronously (non_blocking=True)\n",
    "            x = X[iter * gpt_batch_size: (iter + 1) * gpt_batch_size].pin_memory().to(device, non_blocking=True)\n",
    "            y = Y[iter * gpt_batch_size: (iter + 1) * gpt_batch_size].pin_memory().to(device, non_blocking=True)\n",
    "        else:\n",
    "            x = X[iter * gpt_batch_size: (iter + 1) * gpt_batch_size].to(device)\n",
    "            y = Y[iter * gpt_batch_size: (iter + 1) * gpt_batch_size].to(device)\n",
    "        \n",
    "        mlp_activations = model.get_gelu_acts(x) # (gpt_b, t, n_ffwd)\n",
    "        feature_activations = sae.get_feature_acts(mlp_activations) # (b, t, n_features)\n",
    "        selected_feature_acts = torch.stack([feature_activations[i, selected_tokens_loc[iter], :] \n",
    "                                                for i in range(gpt_batch_size)])  # (b, tokens_per_eval_context, n_features)\n",
    "        n_feature_activations += torch.count_nonzero(selected_feature_acts, dim=[0, 1]).to('cpu') # (n_features, )\n",
    "    return n_feature_activations\n",
    "\n",
    "n_feature_acts = get_n_feature_acts()\n",
    "get_hist_image(np.log10(n_feature_acts[n_feature_acts != 0]/eval_tokens))\n"
   ]
  },
  {
   "cell_type": "code",
   "execution_count": 69,
   "metadata": {},
   "outputs": [
    {
     "name": "stdout",
     "output_type": "stream",
     "text": [
      "number of alive autoencoder neurons: 989\n"
     ]
    },
    {
     "data": {
      "image/png": "[encoded data removed]",
      "text/plain": [
       "<Figure size 640x480 with 1 Axes>"
      ]
     },
     "metadata": {},
     "output_type": "display_data"
    }
   ],
   "source": [
    "# n_feature_activations = torch.zeros(n_features, dtype=torch.float32) # number of tokens on which a feature is active \n",
    "\n",
    "# #### -------------- ####### \n",
    "# for iter in range(eval_contexts // gpt_batch_size):\n",
    "    \n",
    "#     if device_type == 'cuda':\n",
    "#         # pin arrays x,y, which allows us to move them to GPU asynchronously (non_blocking=True)\n",
    "#         x = X[iter * gpt_batch_size: (iter + 1) * gpt_batch_size].pin_memory().to(device, non_blocking=True)\n",
    "#         y = Y[iter * gpt_batch_size: (iter + 1) * gpt_batch_size].pin_memory().to(device, non_blocking=True)\n",
    "#     else:\n",
    "#         x = X[iter * gpt_batch_size: (iter + 1) * gpt_batch_size].to(device)\n",
    "#         y = Y[iter * gpt_batch_size: (iter + 1) * gpt_batch_size].to(device)\n",
    "    \n",
    "#     mlp_activations = model.get_gelu_acts(x) # (gpt_b, t, n_ffwd)\n",
    "#     feature_activations = sae.get_feature_acts(mlp_activations) # (b, t, n_features)\n",
    "#     selected_feature_acts = torch.stack([feature_activations[i, selected_tokens_loc[iter], :] \n",
    "#                                             for i in range(gpt_batch_size)])  # (b, tokens_per_eval_context, n_features)\n",
    "#     n_feature_activations += torch.count_nonzero(selected_feature_acts, dim=[0, 1]).to('cpu') # (n_features, )\n",
    "        \n",
    "# import matplotlib.pyplot as plt\n",
    "# print(f'number of alive autoencoder neurons: {n_feature_activations.count_nonzero()}')\n",
    "# plt.hist(np.log10(n_feature_activations[n_feature_activations != 0]/eval_tokens), bins=30)\n",
    "\n",
    "# plt.show()"
   ]
  },
  {
   "cell_type": "code",
   "execution_count": 28,
   "metadata": {},
   "outputs": [],
   "source": []
  },
  {
   "cell_type": "code",
   "execution_count": 54,
   "metadata": {},
   "outputs": [
    {
     "data": {
      "text/plain": [
       "tensor([[0., 0., 0., 0., 0., 0., 0., 0., 0., 0.],\n",
       "        [0., 0., 0., 0., 0., 0., 0., 0., 0., 0.],\n",
       "        [0., 0., 0., 0., 0., 0., 0., 0., 0., 0.],\n",
       "        [0., 0., 0., 0., 0., 0., 0., 0., 0., 0.],\n",
       "        [0., 0., 0., 0., 0., 0., 0., 0., 0., 0.],\n",
       "        [0., 0., 0., 0., 0., 0., 0., 0., 0., 0.],\n",
       "        [0., 0., 0., 0., 0., 0., 0., 0., 0., 0.],\n",
       "        [0., 0., 0., 0., 0., 0., 0., 0., 0., 0.],\n",
       "        [0., 0., 0., 0., 0., 0., 0., 0., 0., 0.],\n",
       "        [0., 0., 0., 0., 0., 0., 0., 0., 0., 0.],\n",
       "        [0., 0., 0., 0., 0., 0., 0., 0., 0., 0.],\n",
       "        [0., 0., 0., 0., 0., 0., 0., 0., 0., 0.],\n",
       "        [0., 0., 0., 0., 0., 0., 0., 0., 0., 0.],\n",
       "        [0., 0., 0., 0., 0., 0., 0., 0., 0., 0.],\n",
       "        [0., 0., 0., 0., 0., 0., 0., 0., 0., 0.],\n",
       "        [0., 0., 0., 0., 0., 0., 0., 0., 0., 0.]])"
      ]
     },
     "execution_count": 54,
     "metadata": {},
     "output_type": "execute_result"
    }
   ],
   "source": [
    "# selected_feature_acts[:, :, 2] # feature activations for 0th feature"
   ]
  },
  {
   "cell_type": "code",
   "execution_count": null,
   "metadata": {},
   "outputs": [],
   "source": [
    "# 0: [(2.3, 3781), ] # (feature activation, token)"
   ]
  },
  {
   "cell_type": "code",
   "execution_count": null,
   "metadata": {},
   "outputs": [],
   "source": []
  },
  {
   "attachments": {},
   "cell_type": "markdown",
   "metadata": {},
   "source": [
    "An observation:\n",
    "\n",
    "- Feature density histogram only seems bimodal if you restrict to tokens_per_eval_context (10) tokens in each context before checking whether the feature is alive or dead on them. If you check for ALL tokens in each context, you will not see bimodality. To reproduce this, replace 'selected_feature_acts' by 'feature_acts' in the computation of 'n_feature_activations' above. A natural question is if this behavior also holds for GPT trained on OWT dataset."
   ]
  },
  {
   "cell_type": "code",
   "execution_count": null,
   "metadata": {},
   "outputs": [],
   "source": [
    "# TODO: when calling get_gelu_acts, should the model be in eval phase? I think so. This can affect dropout layers\n",
    "# TODO: Why do dropout layers behave differently in eval vs train mode?\n",
    "# TODO: perhaps torch.no_grad is not needed as both get_gelu_acts and get_feature_acts have torch.no_grad, but what about \n",
    "# nll computation?\n",
    "# TODO: also compute nll loss from these mlp_acts; how do hooks work? do I need them?\n",
    "# TODO: gpt_batch_size should be increased to the max value one can fit in the gpu ram!\n",
    "# TODO: why were feature visualizations made after choosing ONLY 10 tokens from each of 10 million contexts? \n",
    "# how do the results change if you increase tokens per context or decrease number of contexts or both?\n",
    "# say 50 tokens from each of 2 million contexts or 10 tokens each from 1 million contexts?"
   ]
  },
  {
   "cell_type": "code",
   "execution_count": 13,
   "metadata": {},
   "outputs": [
    {
     "data": {
      "text/plain": [
       "tensor([18., 15., 15.,  ...,  5., 27., 21.])"
      ]
     },
     "execution_count": 13,
     "metadata": {},
     "output_type": "execute_result"
    }
   ],
   "source": [
    "n_feature_activations"
   ]
  },
  {
   "cell_type": "code",
   "execution_count": null,
   "metadata": {},
   "outputs": [],
   "source": [
    "# pick 10 million contexts and 10 tokens from each context\n",
    "# compute feature activations on all 10 million contexts \n",
    "# look at feature activations on 10 tokens out of each context\n",
    "# record feature densities --- fraction of tokens on which the feature has non-zero value\n",
    "# keep a tensor of shape (n_features,) that keeps a record of the number of tokens on which the feature has taken \n",
    "# non_zero values\n",
    "# plot feature histogram\n",
    "# for each feature that is alive, record 10 out of 100 million tokens with largest activation values\n",
    "# \n",
    "# perhaps this should be a dictionary of info; key: feature number; val: {'num_tokens':  , 'top_values': [(feature activation, token_number)]}\n",
    "# record the token and its context of 4 letters on each side\n",
    "# \n",
    "\n",
    "# when you have computed the \n",
    "# save the model weights and optimizer state dict"
   ]
  },
  {
   "cell_type": "code",
   "execution_count": null,
   "metadata": {},
   "outputs": [],
   "source": []
  },
  {
   "cell_type": "code",
   "execution_count": 71,
   "metadata": {},
   "outputs": [
    {
     "data": {
      "text/html": [
       "Tracking run with wandb version 0.16.1"
      ],
      "text/plain": [
       "<IPython.core.display.HTML object>"
      ]
     },
     "metadata": {},
     "output_type": "display_data"
    },
    {
     "data": {
      "text/html": [
       "Run data is saved locally in <code>/Users/alishehper/work/monosemantic/wandb/run-20231230_222003-9xuqszji</code>"
      ],
      "text/plain": [
       "<IPython.core.display.HTML object>"
      ]
     },
     "metadata": {},
     "output_type": "display_data"
    },
    {
     "data": {
      "text/html": [
       "Syncing run <strong><a href='https://wandb.ai/shehper/trying-tables/runs/9xuqszji' target=\"_blank\">bright-firebrand-23</a></strong> to <a href='https://wandb.ai/shehper/trying-tables' target=\"_blank\">Weights & Biases</a> (<a href='https://wandb.me/run' target=\"_blank\">docs</a>)<br/>"
      ],
      "text/plain": [
       "<IPython.core.display.HTML object>"
      ]
     },
     "metadata": {},
     "output_type": "display_data"
    },
    {
     "data": {
      "text/html": [
       " View project at <a href='https://wandb.ai/shehper/trying-tables' target=\"_blank\">https://wandb.ai/shehper/trying-tables</a>"
      ],
      "text/plain": [
       "<IPython.core.display.HTML object>"
      ]
     },
     "metadata": {},
     "output_type": "display_data"
    },
    {
     "data": {
      "text/html": [
       " View run at <a href='https://wandb.ai/shehper/trying-tables/runs/9xuqszji' target=\"_blank\">https://wandb.ai/shehper/trying-tables/runs/9xuqszji</a>"
      ],
      "text/plain": [
       "<IPython.core.display.HTML object>"
      ]
     },
     "metadata": {},
     "output_type": "display_data"
    },
    {
     "name": "stderr",
     "output_type": "stream",
     "text": [
      "wandb: WARNING Source type is set to 'repo' but some required information is missing from the environment. A job will not be created from this run. See https://docs.wandb.ai/guides/launch/create-job\n"
     ]
    },
    {
     "data": {
      "text/html": [
       "<style>\n",
       "    table.wandb td:nth-child(1) { padding: 0 10px; text-align: left ; width: auto;} td:nth-child(2) {text-align: left ; width: 100%}\n",
       "    .wandb-row { display: flex; flex-direction: row; flex-wrap: wrap; justify-content: flex-start; width: 100% }\n",
       "    .wandb-col { display: flex; flex-direction: column; flex-basis: 100%; flex: 1; padding: 10px; }\n",
       "    </style>\n",
       "<div class=\"wandb-row\"><div class=\"wandb-col\"><h3>Run history:</h3><br/><table class=\"wandb\"><tr><td>step</td><td>▁▃▅▆█</td></tr></table><br/></div><div class=\"wandb-col\"><h3>Run summary:</h3><br/><table class=\"wandb\"><tr><td>step</td><td>20</td></tr></table><br/></div></div>"
      ],
      "text/plain": [
       "<IPython.core.display.HTML object>"
      ]
     },
     "metadata": {},
     "output_type": "display_data"
    },
    {
     "data": {
      "text/html": [
       " View run <strong style=\"color:#cdcd00\">bright-firebrand-23</strong> at: <a href='https://wandb.ai/shehper/trying-tables/runs/9xuqszji' target=\"_blank\">https://wandb.ai/shehper/trying-tables/runs/9xuqszji</a><br/>Synced 5 W&B file(s), 5 media file(s), 0 artifact file(s) and 0 other file(s)"
      ],
      "text/plain": [
       "<IPython.core.display.HTML object>"
      ]
     },
     "metadata": {},
     "output_type": "display_data"
    },
    {
     "data": {
      "text/html": [
       "Find logs at: <code>./wandb/run-20231230_222003-9xuqszji/logs</code>"
      ],
      "text/plain": [
       "<IPython.core.display.HTML object>"
      ]
     },
     "metadata": {},
     "output_type": "display_data"
    }
   ],
   "source": [
    "\n",
    "\n",
    "\n",
    "wandb.init(project='trying-tables')\n",
    "for i in range(5):\n",
    "    # Sample data for the histogram\n",
    "    image = get_hist_image(data = np.random.randn(1000))\n",
    "    wandb.log({\"example_rgb_image\": wandb.Image(image),\n",
    "               \"step\": i*5})\n",
    "wandb.finish()\n",
    "\n"
   ]
  },
  {
   "cell_type": "code",
   "execution_count": null,
   "metadata": {},
   "outputs": [],
   "source": [
    "# This is good. But I want to do is something of the following form:\n",
    "\n",
    "# for step in range of steps:\n",
    "# ----- # perform training \n",
    "# ----- if step = 10000 or something:\n",
    "# ----- ----- # TODO: how to calculate the feature density? how much data to use, etc?\n",
    "              # I THINK I can take 10 million contexts, pick 10 tokens in each context and calculate feature activations on these 100 million tokens\n",
    "              # TODO: should I choose different 10 million contexts every time during training?\n",
    "              # perhaps I need to log the top 10 tokens (and a context of 4 tokens on each side) for each alive feature\n",
    "                # perhaps there should be a widget that you can scroll through to see the top 10 tokens (and their contexts) for each \n",
    "# ----- ----- TECHNICALLY EASY: log the number of features in the high density cluster; TODO: It's hard to define a cutoff\n",
    "# ----- ----- TECHNICALLY EASY: log the minimimum feature density of the high density cluster; TODO: It's hard to define a cutoff\n",
    "# ----- ----- TECHNICALLY EASY: log the number of features with density above 1%; if it's too high, increase the L1 coefficient \n",
    "# ----- ----- TECHNICALLY EASY: plotting the histogram\n",
    "# ----- ----- TECHNICALLY EASY: log the number of alive autoencoder neurons (i.e. those in the high density cluster + those in the ultralow density cluster)\n",
    "# ----- ----- TECHNICALLY EASY: log the minimum feature density amongst alive autoencoder neurons\n",
    "# ----- ----- "
   ]
  },
  {
   "cell_type": "code",
   "execution_count": null,
   "metadata": {},
   "outputs": [],
   "source": [
    "# %matplotlib inline\n",
    "# import matplotlib.pyplot as plt\n",
    "# from matplotlib.animation import FuncAnimation\n",
    "# from IPython.display import HTML\n",
    "# import numpy as np\n",
    "\n",
    "# # Sample data\n",
    "# data = [np.random.normal(0, 1, 100) + i for i in range(10)]\n",
    "\n",
    "# fig, ax = plt.subplots()\n",
    "# bins = np.linspace(-5, 15, 30)\n",
    "\n",
    "# def animate(i):\n",
    "#     ax.clear()\n",
    "#     ax.hist(data[i], bins=bins, color='blue', alpha=0.7)\n",
    "#     ax.set_title(f\"Histogram at Step {i}\")\n",
    "\n",
    "# ani = FuncAnimation(fig, animate, frames=len(data), interval=500)\n",
    "\n",
    "# # Convert animation to HTML5 video and display\n",
    "# html_video = HTML(ani.to_html5_video())\n",
    "\n",
    "# # Close the figure to prevent displaying the static image\n",
    "# plt.close(fig)\n",
    "\n",
    "# # Display the HTML video\n",
    "# html_video\n"
   ]
  },
  {
   "cell_type": "code",
   "execution_count": 35,
   "metadata": {},
   "outputs": [
    {
     "data": {
      "text/html": [
       "Tracking run with wandb version 0.16.1"
      ],
      "text/plain": [
       "<IPython.core.display.HTML object>"
      ]
     },
     "metadata": {},
     "output_type": "display_data"
    },
    {
     "data": {
      "text/html": [
       "Run data is saved locally in <code>/Users/alishehper/work/monosemantic/wandb/run-20231228_131634-n5mj9z68</code>"
      ],
      "text/plain": [
       "<IPython.core.display.HTML object>"
      ]
     },
     "metadata": {},
     "output_type": "display_data"
    },
    {
     "data": {
      "text/html": [
       "Syncing run <strong><a href='https://wandb.ai/shehper/trying-tables/runs/n5mj9z68' target=\"_blank\">stoic-spaceship-15</a></strong> to <a href='https://wandb.ai/shehper/trying-tables' target=\"_blank\">Weights & Biases</a> (<a href='https://wandb.me/run' target=\"_blank\">docs</a>)<br/>"
      ],
      "text/plain": [
       "<IPython.core.display.HTML object>"
      ]
     },
     "metadata": {},
     "output_type": "display_data"
    },
    {
     "data": {
      "text/html": [
       " View project at <a href='https://wandb.ai/shehper/trying-tables' target=\"_blank\">https://wandb.ai/shehper/trying-tables</a>"
      ],
      "text/plain": [
       "<IPython.core.display.HTML object>"
      ]
     },
     "metadata": {},
     "output_type": "display_data"
    },
    {
     "data": {
      "text/html": [
       " View run at <a href='https://wandb.ai/shehper/trying-tables/runs/n5mj9z68' target=\"_blank\">https://wandb.ai/shehper/trying-tables/runs/n5mj9z68</a>"
      ],
      "text/plain": [
       "<IPython.core.display.HTML object>"
      ]
     },
     "metadata": {},
     "output_type": "display_data"
    },
    {
     "name": "stderr",
     "output_type": "stream",
     "text": [
      "wandb: WARNING Source type is set to 'repo' but some required information is missing from the environment. A job will not be created from this run. See https://docs.wandb.ai/guides/launch/create-job\n"
     ]
    },
    {
     "data": {
      "text/html": [
       " View run <strong style=\"color:#cdcd00\">stoic-spaceship-15</strong> at: <a href='https://wandb.ai/shehper/trying-tables/runs/n5mj9z68' target=\"_blank\">https://wandb.ai/shehper/trying-tables/runs/n5mj9z68</a><br/>Synced 5 W&B file(s), 5 media file(s), 5 artifact file(s) and 0 other file(s)"
      ],
      "text/plain": [
       "<IPython.core.display.HTML object>"
      ]
     },
     "metadata": {},
     "output_type": "display_data"
    },
    {
     "data": {
      "text/html": [
       "Find logs at: <code>./wandb/run-20231228_131634-n5mj9z68/logs</code>"
      ],
      "text/plain": [
       "<IPython.core.display.HTML object>"
      ]
     },
     "metadata": {},
     "output_type": "display_data"
    }
   ],
   "source": [
    "import wandb\n",
    "import numpy as np\n",
    "\n",
    "# Initialize a wandb run\n",
    "wandb.init(project='trying-tables')\n",
    "\n",
    "for i in range(5):\n",
    "    # Example array\n",
    "    array = np.random.rand(10, 5)  # A 10x5 array\n",
    "\n",
    "    # Convert array to wandb.Table\n",
    "    table = wandb.Table(data=array, columns=[f\"Col{i}\" for i in range(array.shape[1])])\n",
    "\n",
    "    # Log the table\n",
    "    wandb.log({\"my_array_table\": table})\n",
    "\n",
    "# Finish the run\n",
    "wandb.finish()\n"
   ]
  },
  {
   "cell_type": "code",
   "execution_count": null,
   "metadata": {},
   "outputs": [],
   "source": [
    "# For manual inspection, perhaps I could use a table "
   ]
  },
  {
   "cell_type": "code",
   "execution_count": null,
   "metadata": {},
   "outputs": [],
   "source": [
    "# Autoencoder neurons are going to be of three kinds.\n",
    "# 1. In ultralow density cluster\n",
    "# 2. In high density cluster\n",
    "# 3. dead\n",
    "\n",
    "# Ideally we want to minimize the number of neurons that are dead or are in the ultralow density cluster. That's perhaps where neuron resampling comes in?"
   ]
  },
  {
   "cell_type": "code",
   "execution_count": null,
   "metadata": {},
   "outputs": [],
   "source": [
    "# Feature Density Histograms: Specific metrics from these histograms include:\n",
    "# The number of alive features outside of the ultralow density cluster\n",
    "# The minimum feature density at which we see a significant number of non-ultralow-density-cluster features.\n",
    "# The number of features with density above 1%. A significant number of features above this level seems to correspond to an L1 coefficient that is too low."
   ]
  },
  {
   "attachments": {},
   "cell_type": "markdown",
   "metadata": {},
   "source": [
    "#### Comments"
   ]
  },
  {
   "attachments": {},
   "cell_type": "markdown",
   "metadata": {},
   "source": [
    "1. Load the model checkpoint.\n",
    "2. Evaluate the model on a bunch of (N) contexts from the dataset. This should likely be done after loading train.bin and val.bin\n",
    "as is done in get_batch. \n",
    "3. After evaluation, obtain the activations of the linear layer in Transformer and save them somewhere.\n",
    "\n",
    "I trained a 1 layer LM on Shakespeare dataset. It achieved training loss of 1.796 and validation loss of 1.920. block size was 64, batch size was 12, n_embd was 128, so n_ffwd was 512. \n",
    "\n",
    "With block size of 64 and batch size of 12, the number of tokens processed in each training step were 768. I trained for 2000 iterations so the total number of tokens was ~1.54M.\n",
    "\n",
    "Now the Anthropic paper had trained on 100B tokens and collected a dataset of 10B activation vectors to train the autoencoder (by sampling activation vectors for 250 tokens each in 40 million contexts). Out of this, they used around 8.2B activation vectors for training the autoencoder. They trained for 1 million steps with batch size of 8192 (activation vectors where each vector is of length 512). \n",
    "\n",
    "For this work, I will ignore the validation dataset and just work with the training data (for now). I will, for now, choose around 1e5 contexts and sample 6 activation vectors to obtain a datset of 6e5 activation vectors. (I dont have a concrete reason for choosing this number of contexts contexts: just that my dataset is already pretty small, i.e. of 1.54M tokens only while Anthropic had 100B tokens so I might not be able to choose too many independent data points.)\n",
    "\n",
    "So I think that all of the activations in the autoencoder dataset can be saved in one torch tensor or numpy array. "
   ]
  },
  {
   "cell_type": "markdown",
   "metadata": {},
   "source": []
  }
 ],
 "metadata": {
  "kernelspec": {
   "display_name": "env",
   "language": "python",
   "name": "python3"
  },
  "language_info": {
   "codemirror_mode": {
    "name": "ipython",
    "version": 3
   },
   "file_extension": ".py",
   "mimetype": "text/x-python",
   "name": "python",
   "nbconvert_exporter": "python",
   "pygments_lexer": "ipython3",
   "version": "3.9.16"
  },
  "orig_nbformat": 4
 },
 "nbformat": 4,
 "nbformat_minor": 2
}
